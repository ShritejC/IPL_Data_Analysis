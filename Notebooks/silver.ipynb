{
 "cells": [
  {
   "cell_type": "code",
   "execution_count": 0,
   "metadata": {
    "application/vnd.databricks.v1+cell": {
     "cellMetadata": {
      "byteLimit": 2048000,
      "rowLimit": 10000
     },
     "inputWidgets": {},
     "nuid": "fee9f466-549a-40d9-a502-4327bf4cfd4b",
     "showTitle": false,
     "tableResultSettingsMap": {},
     "title": ""
    },
    "jupyter": {
     "outputs_hidden": true
    }
   },
   "outputs": [],
   "source": [
    "import pandas as pd\n",
    "import logging"
   ]
  },
  {
   "cell_type": "code",
   "execution_count": 0,
   "metadata": {
    "application/vnd.databricks.v1+cell": {
     "cellMetadata": {
      "byteLimit": 2048000,
      "rowLimit": 10000
     },
     "inputWidgets": {},
     "nuid": "04fc9c69-02cd-4fe7-964b-280f5c1c0db1",
     "showTitle": false,
     "tableResultSettingsMap": {},
     "title": ""
    }
   },
   "outputs": [],
   "source": [
    "# spark.conf.set(\n",
    "#   \"fs.azure.account.key.stge1.dfs.core.windows.net\",\n",
    "#   \"access key\"\n",
    "# )    commented bcz git is restricting the key"
   ]
  },
  {
   "cell_type": "code",
   "execution_count": 0,
   "metadata": {
    "application/vnd.databricks.v1+cell": {
     "cellMetadata": {
      "byteLimit": 2048000,
      "rowLimit": 10000
     },
     "inputWidgets": {},
     "nuid": "6a4f2b74-34ce-4c0d-8ae4-92ac6301dab1",
     "showTitle": false,
     "tableResultSettingsMap": {},
     "title": ""
    }
   },
   "outputs": [],
   "source": [
    "bronze_log_path = \"abfss://bronze@stge1.dfs.core.windows.net/logs/\""
   ]
  },
  {
   "cell_type": "code",
   "execution_count": 0,
   "metadata": {
    "application/vnd.databricks.v1+cell": {
     "cellMetadata": {
      "byteLimit": 2048000,
      "rowLimit": 10000
     },
     "inputWidgets": {},
     "nuid": "80eba8c6-305a-4bf2-912c-e663c3c87bea",
     "showTitle": false,
     "tableResultSettingsMap": {},
     "title": ""
    }
   },
   "outputs": [],
   "source": [
    "import datetime\n",
    "from pyspark.sql import SparkSession\n",
    "bronze_log_path = \"abfss://bronze@stge1.dfs.core.windows.net/logs/\"\n",
    "log_data = []\n",
    "current_time = datetime.datetime.now().strftime(\"%Y-%m-%d %H:%M:%S\")"
   ]
  },
  {
   "cell_type": "code",
   "execution_count": 0,
   "metadata": {
    "application/vnd.databricks.v1+cell": {
     "cellMetadata": {
      "byteLimit": 2048000,
      "rowLimit": 10000
     },
     "inputWidgets": {},
     "nuid": "fbfcb781-396b-42c8-9c6f-4afc783f21cb",
     "showTitle": false,
     "tableResultSettingsMap": {},
     "title": ""
    }
   },
   "outputs": [],
   "source": [
    "try: \n",
    "    df1 = spark.read.parquet(\"abfss://silver@stge1.dfs.core.windows.net/team_silver.parquet\")\n",
    "    df2 = spark.read.parquet(\"abfss://silver@stge1.dfs.core.windows.net/Player__Performance_silver.parquet\")\n",
    "    df3 = spark.read.parquet(\"abfss://silver@stge1.dfs.core.windows.net/stadium_silver.parquet\")\n",
    "    df4 = spark.read.parquet(\"abfss://silver@stge1.dfs.core.windows.net/player_team_silver.parquet\")\n",
    "    df5 = spark.read.parquet(\"abfss://silver@stge1.dfs.core.windows.net/match_stadium_silver.parquet\")\n",
    "    df6 = spark.read.parquet(\"abfss://silver@stge1.dfs.core.windows.net/match_performance_silver.parquet\")\n",
    "    log_data.append((current_time, \"INFO\", \"File found\"))\n",
    "\n",
    "except:\n",
    "    print(\"Error: File not found\")\n",
    "log_data.append((current_time, \"ERROR\", \"File not found\"))\n"
   ]
  },
  {
   "cell_type": "code",
   "execution_count": 0,
   "metadata": {
    "application/vnd.databricks.v1+cell": {
     "cellMetadata": {
      "byteLimit": 2048000,
      "rowLimit": 10000
     },
     "inputWidgets": {},
     "nuid": "32b16774-2a90-4f2a-b3f5-b65a35243c3c",
     "showTitle": false,
     "tableResultSettingsMap": {},
     "title": ""
    }
   },
   "outputs": [
    {
     "data": {
      "text/html": [
       "<style scoped>\n",
       "  .table-result-container {\n",
       "    max-height: 300px;\n",
       "    overflow: auto;\n",
       "  }\n",
       "  table, th, td {\n",
       "    border: 1px solid black;\n",
       "    border-collapse: collapse;\n",
       "  }\n",
       "  th, td {\n",
       "    padding: 5px;\n",
       "  }\n",
       "  th {\n",
       "    text-align: left;\n",
       "  }\n",
       "</style><div class='table-result-container'><table class='table-result'><thead style='background-color: white'><tr><th>match_id</th><th>player_id</th><th>runs_scored_match</th><th>wickets_taken_match</th><th>ball_taken</th></tr></thead><tbody><tr><td>214</td><td>101</td><td>82</td><td>2</td><td>50</td></tr><tr><td>211</td><td>102</td><td>97</td><td>2</td><td>50</td></tr><tr><td>207</td><td>103</td><td>29</td><td>2</td><td>50</td></tr><tr><td>218</td><td>104</td><td>14</td><td>3</td><td>50</td></tr><tr><td>209</td><td>105</td><td>5</td><td>1</td><td>50</td></tr><tr><td>218</td><td>106</td><td>44</td><td>1</td><td>50</td></tr><tr><td>202</td><td>107</td><td>68</td><td>2</td><td>50</td></tr><tr><td>213</td><td>108</td><td>94</td><td>4</td><td>50</td></tr><tr><td>215</td><td>109</td><td>93</td><td>2</td><td>50</td></tr><tr><td>219</td><td>110</td><td>75</td><td>3</td><td>50</td></tr><tr><td>204</td><td>111</td><td>38</td><td>2</td><td>50</td></tr><tr><td>215</td><td>112</td><td>15</td><td>0</td><td>50</td></tr><tr><td>217</td><td>113</td><td>70</td><td>1</td><td>50</td></tr><tr><td>218</td><td>114</td><td>81</td><td>1</td><td>50</td></tr><tr><td>205</td><td>115</td><td>85</td><td>0</td><td>50</td></tr><tr><td>214</td><td>116</td><td>58</td><td>4</td><td>50</td></tr><tr><td>208</td><td>117</td><td>35</td><td>4</td><td>50</td></tr><tr><td>203</td><td>118</td><td>80</td><td>1</td><td>50</td></tr><tr><td>213</td><td>119</td><td>21</td><td>3</td><td>50</td></tr><tr><td>216</td><td>120</td><td>75</td><td>0</td><td>50</td></tr></tbody></table></div>"
      ]
     },
     "metadata": {
      "application/vnd.databricks.v1+output": {
       "addedWidgets": {},
       "aggData": [],
       "aggError": "",
       "aggOverflow": false,
       "aggSchema": [],
       "aggSeriesLimitReached": false,
       "aggType": "",
       "arguments": {},
       "columnCustomDisplayInfos": {},
       "data": [
        [
         214,
         101,
         82,
         2,
         50
        ],
        [
         211,
         102,
         97,
         2,
         50
        ],
        [
         207,
         103,
         29,
         2,
         50
        ],
        [
         218,
         104,
         14,
         3,
         50
        ],
        [
         209,
         105,
         5,
         1,
         50
        ],
        [
         218,
         106,
         44,
         1,
         50
        ],
        [
         202,
         107,
         68,
         2,
         50
        ],
        [
         213,
         108,
         94,
         4,
         50
        ],
        [
         215,
         109,
         93,
         2,
         50
        ],
        [
         219,
         110,
         75,
         3,
         50
        ],
        [
         204,
         111,
         38,
         2,
         50
        ],
        [
         215,
         112,
         15,
         0,
         50
        ],
        [
         217,
         113,
         70,
         1,
         50
        ],
        [
         218,
         114,
         81,
         1,
         50
        ],
        [
         205,
         115,
         85,
         0,
         50
        ],
        [
         214,
         116,
         58,
         4,
         50
        ],
        [
         208,
         117,
         35,
         4,
         50
        ],
        [
         203,
         118,
         80,
         1,
         50
        ],
        [
         213,
         119,
         21,
         3,
         50
        ],
        [
         216,
         120,
         75,
         0,
         50
        ]
       ],
       "datasetInfos": [],
       "dbfsResultPath": null,
       "isJsonSchema": true,
       "metadata": {},
       "overflow": false,
       "plotOptions": {
        "customPlotOptions": {},
        "displayType": "table",
        "pivotAggregation": null,
        "pivotColumns": null,
        "xColumns": null,
        "yColumns": null
       },
       "removedWidgets": [],
       "schema": [
        {
         "metadata": "{}",
         "name": "match_id",
         "type": "\"integer\""
        },
        {
         "metadata": "{}",
         "name": "player_id",
         "type": "\"integer\""
        },
        {
         "metadata": "{}",
         "name": "runs_scored_match",
         "type": "\"integer\""
        },
        {
         "metadata": "{}",
         "name": "wickets_taken_match",
         "type": "\"integer\""
        },
        {
         "metadata": "{}",
         "name": "ball_taken",
         "type": "\"integer\""
        }
       ],
       "type": "table"
      }
     },
     "output_type": "display_data"
    }
   ],
   "source": [
    "try:\n",
    "    df2 = df2.withColumnRenamed(\"runs_scored\", \"runs_scored_match\")\n",
    "    df2 = df2.withColumnRenamed(\"wickets_taken\", \"wickets_taken_match\")\n",
    "    df2.display()\n",
    "    log_data.append((current_time, \"INFO\", \"File found\"))\n",
    "except:\n",
    "    print(\"Error: File not found\")\n",
    "log_data.append((current_time, \"ERROR\", \"File not found\"))"
   ]
  },
  {
   "cell_type": "code",
   "execution_count": 0,
   "metadata": {
    "application/vnd.databricks.v1+cell": {
     "cellMetadata": {
      "byteLimit": 2048000,
      "rowLimit": 10000
     },
     "inputWidgets": {},
     "nuid": "b430a037-daab-447f-970d-7b4a600e3c43",
     "showTitle": false,
     "tableResultSettingsMap": {},
     "title": ""
    }
   },
   "outputs": [],
   "source": [
    "from pyspark.sql.functions import current_date, input_file_name,regexp_extract\n",
    "try:\n",
    "    df1 = df1.withColumn(\"ingestion_date\", current_date()).withColumn(\"source_file\", regexp_extract(input_file_name(), r\"([^/]+$)\", 1))\n",
    "    df2 = df2.withColumn(\"ingestion_date\", current_date()).withColumn(\"source_file\", regexp_extract(input_file_name(), r\"([^/]+$)\", 1))\n",
    "    df3 = df3.withColumn(\"ingestion_date\", current_date()).withColumn(\"source_file\", regexp_extract(input_file_name(), r\"([^/]+$)\", 1))\n",
    "    df4 = df4.withColumn(\"ingestion_date\", current_date()).withColumn(\"source_file\", regexp_extract(input_file_name(), r\"([^/]+$)\", 1))\n",
    "    df5 = df5.withColumn(\"ingestion_date\", current_date()).withColumn(\"source_file\", regexp_extract(input_file_name(), r\"([^/]+$)\", 1))\n",
    "    df6 = df6.withColumn(\"ingestion_date\", current_date()).withColumn(\"source_file\", regexp_extract(input_file_name(), r\"([^/]+$)\", 1))\n",
    "    log_data.append((current_time, \"INFO\", \"File found\"))\n",
    "except:\n",
    "    print(\"Error: File not found\")\n",
    "    log_data.append((current_time, \"ERROR\", \"File not found\"))\n"
   ]
  },
  {
   "cell_type": "code",
   "execution_count": 0,
   "metadata": {
    "application/vnd.databricks.v1+cell": {
     "cellMetadata": {
      "byteLimit": 2048000,
      "rowLimit": 10000
     },
     "inputWidgets": {},
     "nuid": "1a321aab-b476-42d0-bfe3-69d129ba9158",
     "showTitle": false,
     "tableResultSettingsMap": {},
     "title": ""
    }
   },
   "outputs": [
    {
     "name": "stdout",
     "output_type": "stream",
     "text": [
      "root\n",
      " |-- team_id: integer (nullable = true)\n",
      " |-- team_name: string (nullable = true)\n",
      " |-- home_ground: string (nullable = true)\n",
      " |-- captain: string (nullable = true)\n",
      " |-- ingestion_date: date (nullable = false)\n",
      " |-- source_file: string (nullable = false)\n",
      "\n",
      "root\n",
      " |-- match_id: integer (nullable = true)\n",
      " |-- player_id: integer (nullable = true)\n",
      " |-- runs_scored_match: integer (nullable = true)\n",
      " |-- wickets_taken_match: integer (nullable = true)\n",
      " |-- ball_taken: integer (nullable = true)\n",
      " |-- ingestion_date: date (nullable = false)\n",
      " |-- source_file: string (nullable = false)\n",
      "\n",
      "root\n",
      " |-- stadium_id: integer (nullable = true)\n",
      " |-- stadium_name: string (nullable = true)\n",
      " |-- city: string (nullable = true)\n",
      " |-- capacity: integer (nullable = true)\n",
      " |-- ingestion_date: date (nullable = false)\n",
      " |-- source_file: string (nullable = false)\n",
      "\n",
      "root\n",
      " |-- player_id: integer (nullable = true)\n",
      " |-- player_name: string (nullable = true)\n",
      " |-- team_id: integer (nullable = true)\n",
      " |-- player_role: string (nullable = true)\n",
      " |-- ingestion_date: date (nullable = false)\n",
      " |-- source_file: string (nullable = false)\n",
      "\n",
      "root\n",
      " |-- match_id: integer (nullable = true)\n",
      " |-- stadium_id: integer (nullable = true)\n",
      " |-- ingestion_date: date (nullable = false)\n",
      " |-- source_file: string (nullable = false)\n",
      "\n",
      "root\n",
      " |-- match_id: integer (nullable = true)\n",
      " |-- team_id: integer (nullable = true)\n",
      " |-- opponent_team_id: integer (nullable = true)\n",
      " |-- runs_scored: double (nullable = true)\n",
      " |-- wickets_taken: integer (nullable = true)\n",
      " |-- match_result: string (nullable = true)\n",
      " |-- ingestion_date: date (nullable = false)\n",
      " |-- source_file: string (nullable = false)\n",
      "\n"
     ]
    }
   ],
   "source": [
    "# checking datatypes of each column\n",
    "\n",
    "df1.printSchema()\n",
    "df2.printSchema()\n",
    "df3.printSchema()\n",
    "df4.printSchema()\n",
    "df5.printSchema()\n",
    "df6.printSchema()"
   ]
  },
  {
   "cell_type": "code",
   "execution_count": 0,
   "metadata": {
    "application/vnd.databricks.v1+cell": {
     "cellMetadata": {
      "byteLimit": 2048000,
      "rowLimit": 10000
     },
     "inputWidgets": {},
     "nuid": "8b5f2b38-7312-4cfe-b467-4e47ae6c37bd",
     "showTitle": false,
     "tableResultSettingsMap": {},
     "title": ""
    }
   },
   "outputs": [
    {
     "name": "stdout",
     "output_type": "stream",
     "text": [
      "root\n",
      " |-- match_id: integer (nullable = true)\n",
      " |-- team_id: integer (nullable = true)\n",
      " |-- opponent_team_id: integer (nullable = true)\n",
      " |-- runs_scored: integer (nullable = true)\n",
      " |-- wickets_taken: integer (nullable = true)\n",
      " |-- match_result: string (nullable = true)\n",
      " |-- ingestion_date: date (nullable = false)\n",
      " |-- source_file: string (nullable = false)\n",
      "\n"
     ]
    }
   ],
   "source": [
    "# changing data type of runs_scored column from double to integer\n",
    "\n",
    "df6=df6.withColumn('runs_scored', df6['runs_scored'].cast('integer'))\n",
    "df6.printSchema()"
   ]
  },
  {
   "cell_type": "code",
   "execution_count": 0,
   "metadata": {
    "application/vnd.databricks.v1+cell": {
     "cellMetadata": {
      "byteLimit": 2048000,
      "rowLimit": 10000
     },
     "inputWidgets": {},
     "nuid": "72a7c1d7-61dd-4091-942c-6556e937caf9",
     "showTitle": false,
     "tableResultSettingsMap": {},
     "title": ""
    }
   },
   "outputs": [],
   "source": [
    "try: \n",
    "    df1_slv=df1.dropna()\n",
    "    df2_slv=df2.dropna()\n",
    "    df3_slv=df3.dropna()\n",
    "    df4_slv=df4.dropna()\n",
    "    df5_slv=df5.dropna()\n",
    "    df6_slv=df6.dropna()\n",
    "    log_data.append((current_time, \"INFO\", \"File found\"))\n",
    "except:\n",
    "    print(\"Error: File not found\")\n",
    "    log_data.append((current_time, \"ERROR\", \"File not found\"))\n"
   ]
  },
  {
   "cell_type": "code",
   "execution_count": 0,
   "metadata": {
    "application/vnd.databricks.v1+cell": {
     "cellMetadata": {
      "byteLimit": 2048000,
      "rowLimit": 10000
     },
     "inputWidgets": {},
     "nuid": "788be6dc-3d92-4141-874f-fa47ed2ba2c2",
     "showTitle": false,
     "tableResultSettingsMap": {},
     "title": ""
    }
   },
   "outputs": [],
   "source": [
    "try:\n",
    "    dm1=df4_slv.join(df1_slv, df4_slv.team_id==df1_slv.team_id, how='inner').drop(df1_slv.team_id,df1_slv.ingestion_date,df4_slv.ingestion_date,df1_slv.source_file,df4_slv.source_file)\n",
    "    log_data.append((current_time, \"INFO\", \"File found\"))\n",
    "except:\n",
    "    print(\"Error: File not found\")\n"
   ]
  },
  {
   "cell_type": "code",
   "execution_count": 0,
   "metadata": {
    "application/vnd.databricks.v1+cell": {
     "cellMetadata": {
      "byteLimit": 2048000,
      "rowLimit": 10000
     },
     "inputWidgets": {},
     "nuid": "59c51131-f827-45e9-a683-deb418f5b319",
     "showTitle": false,
     "tableResultSettingsMap": {},
     "title": ""
    }
   },
   "outputs": [],
   "source": [
    "try:\n",
    "    dm2=df6_slv.join(dm1, df6_slv.team_id==dm1.team_id, how='inner').drop(df6_slv.team_id,df6_slv.ingestion_date,df6_slv.source_file)\n",
    "    log_data.append((current_time, \"INFO\", \"File found\"))\n",
    "except:\n",
    "    print(\"Error: File not found\")"
   ]
  },
  {
   "cell_type": "code",
   "execution_count": 0,
   "metadata": {
    "application/vnd.databricks.v1+cell": {
     "cellMetadata": {
      "byteLimit": 2048000,
      "rowLimit": 10000
     },
     "inputWidgets": {},
     "nuid": "754f3463-a153-4f13-acb5-01fe5c1fe773",
     "showTitle": false,
     "tableResultSettingsMap": {},
     "title": ""
    }
   },
   "outputs": [],
   "source": [
    "try:\n",
    "    dm3=df5_slv.join(dm2, df5_slv.match_id==dm2.match_id, how='inner').drop(df5_slv.match_id,df5_slv.ingestion_date,df5_slv.source_file)\n",
    "    log_data.append((current_time, \"INFO\", \"File found\"))\n",
    "except:\n",
    "    print(\"Error: File not found\")"
   ]
  },
  {
   "cell_type": "code",
   "execution_count": 0,
   "metadata": {
    "application/vnd.databricks.v1+cell": {
     "cellMetadata": {
      "byteLimit": 2048000,
      "rowLimit": 10000
     },
     "inputWidgets": {},
     "nuid": "094956dc-7f95-4aa5-b43a-f65f6c598272",
     "showTitle": false,
     "tableResultSettingsMap": {},
     "title": ""
    }
   },
   "outputs": [],
   "source": [
    "try:\n",
    "    dm4=df3_slv.join(dm3, df3_slv.stadium_id==dm3.stadium_id, how='inner').drop(df3_slv.ingestion_date,df3_slv.source_file,df3_slv.stadium_id)\n",
    "    log_data.append((current_time, \"INFO\", \"File found\"))\n",
    "except:\n",
    "    print(\"Error: File not found\")"
   ]
  },
  {
   "cell_type": "code",
   "execution_count": 0,
   "metadata": {
    "application/vnd.databricks.v1+cell": {
     "cellMetadata": {
      "byteLimit": 2048000,
      "rowLimit": 10000
     },
     "inputWidgets": {},
     "nuid": "6e0b8230-372d-498a-8e10-ef65b5cdad7e",
     "showTitle": false,
     "tableResultSettingsMap": {},
     "title": ""
    }
   },
   "outputs": [
    {
     "data": {
      "text/html": [
       "<style scoped>\n",
       "  .table-result-container {\n",
       "    max-height: 300px;\n",
       "    overflow: auto;\n",
       "  }\n",
       "  table, th, td {\n",
       "    border: 1px solid black;\n",
       "    border-collapse: collapse;\n",
       "  }\n",
       "  th, td {\n",
       "    padding: 5px;\n",
       "  }\n",
       "  th {\n",
       "    text-align: left;\n",
       "  }\n",
       "</style><div class='table-result-container'><table class='table-result'><thead style='background-color: white'><tr><th>runs_scored_match</th><th>wickets_taken_match</th><th>ball_taken</th><th>stadium_name</th><th>city</th><th>capacity</th><th>stadium_id</th><th>match_id</th><th>opponent_team_id</th><th>runs_scored</th><th>wickets_taken</th><th>match_result</th><th>player_id</th><th>player_name</th><th>team_id</th><th>player_role</th><th>team_name</th><th>home_ground</th><th>captain</th></tr></thead><tbody><tr><td>82</td><td>2</td><td>50</td><td>Arun Jaitley Stadium</td><td>Delhi</td><td>41820</td><td>303</td><td>212</td><td>5</td><td>227</td><td>6</td><td>Win</td><td>101</td><td>Thomas Mendez</td><td>1</td><td>All-rounder</td><td>Mumbai Indians</td><td>Wankhede Stadium</td><td>Rohit Sharma</td></tr><tr><td>82</td><td>2</td><td>50</td><td>Eden Gardens</td><td>Kolkata</td><td>66000</td><td>304</td><td>202</td><td>3</td><td>202</td><td>10</td><td>Loss</td><td>101</td><td>Thomas Mendez</td><td>1</td><td>All-rounder</td><td>Mumbai Indians</td><td>Wankhede Stadium</td><td>Rohit Sharma</td></tr><tr><td>14</td><td>3</td><td>50</td><td>Arun Jaitley Stadium</td><td>Delhi</td><td>41820</td><td>303</td><td>219</td><td>3</td><td>194</td><td>7</td><td>Loss</td><td>104</td><td>Amber Bell</td><td>2</td><td>Bowler</td><td>Chennai Super Kings</td><td>M. A. Chidambaram Stadium</td><td>MS Dhoni</td></tr><tr><td>14</td><td>3</td><td>50</td><td>Eden Gardens</td><td>Kolkata</td><td>66000</td><td>304</td><td>218</td><td>1</td><td>190</td><td>5</td><td>Tie</td><td>104</td><td>Amber Bell</td><td>2</td><td>Bowler</td><td>Chennai Super Kings</td><td>M. A. Chidambaram Stadium</td><td>MS Dhoni</td></tr><tr><td>5</td><td>1</td><td>50</td><td>Arun Jaitley Stadium</td><td>Delhi</td><td>41820</td><td>303</td><td>212</td><td>5</td><td>227</td><td>6</td><td>Win</td><td>105</td><td>Shawn Bowers</td><td>1</td><td>Batsman</td><td>Mumbai Indians</td><td>Wankhede Stadium</td><td>Rohit Sharma</td></tr><tr><td>5</td><td>1</td><td>50</td><td>Eden Gardens</td><td>Kolkata</td><td>66000</td><td>304</td><td>202</td><td>3</td><td>202</td><td>10</td><td>Loss</td><td>105</td><td>Shawn Bowers</td><td>1</td><td>Batsman</td><td>Mumbai Indians</td><td>Wankhede Stadium</td><td>Rohit Sharma</td></tr><tr><td>94</td><td>4</td><td>50</td><td>Arun Jaitley Stadium</td><td>Delhi</td><td>41820</td><td>303</td><td>219</td><td>3</td><td>194</td><td>7</td><td>Loss</td><td>108</td><td>Jared Knox</td><td>2</td><td>Bowler</td><td>Chennai Super Kings</td><td>M. A. Chidambaram Stadium</td><td>MS Dhoni</td></tr><tr><td>94</td><td>4</td><td>50</td><td>Eden Gardens</td><td>Kolkata</td><td>66000</td><td>304</td><td>218</td><td>1</td><td>190</td><td>5</td><td>Tie</td><td>108</td><td>Jared Knox</td><td>2</td><td>Bowler</td><td>Chennai Super Kings</td><td>M. A. Chidambaram Stadium</td><td>MS Dhoni</td></tr><tr><td>93</td><td>2</td><td>50</td><td>Arun Jaitley Stadium</td><td>Delhi</td><td>41820</td><td>303</td><td>219</td><td>3</td><td>194</td><td>7</td><td>Loss</td><td>109</td><td>Kevin Conrad</td><td>2</td><td>Bowler</td><td>Chennai Super Kings</td><td>M. A. Chidambaram Stadium</td><td>MS Dhoni</td></tr><tr><td>93</td><td>2</td><td>50</td><td>Eden Gardens</td><td>Kolkata</td><td>66000</td><td>304</td><td>218</td><td>1</td><td>190</td><td>5</td><td>Tie</td><td>109</td><td>Kevin Conrad</td><td>2</td><td>Bowler</td><td>Chennai Super Kings</td><td>M. A. Chidambaram Stadium</td><td>MS Dhoni</td></tr><tr><td>75</td><td>3</td><td>50</td><td>Arun Jaitley Stadium</td><td>Delhi</td><td>41820</td><td>303</td><td>216</td><td>1</td><td>139</td><td>8</td><td>Win</td><td>110</td><td>Alan Padilla</td><td>4</td><td>All-rounder</td><td>Kolkata Knight Riders</td><td>Eden Gardens</td><td>Shreyas Iyer</td></tr><tr><td>75</td><td>3</td><td>50</td><td>Wankhede Stadium</td><td>Mumbai</td><td>33108</td><td>301</td><td>209</td><td>1</td><td>201</td><td>5</td><td>Tie</td><td>110</td><td>Alan Padilla</td><td>4</td><td>All-rounder</td><td>Kolkata Knight Riders</td><td>Eden Gardens</td><td>Shreyas Iyer</td></tr><tr><td>75</td><td>3</td><td>50</td><td>Eden Gardens</td><td>Kolkata</td><td>66000</td><td>304</td><td>205</td><td>3</td><td>123</td><td>8</td><td>Tie</td><td>110</td><td>Alan Padilla</td><td>4</td><td>All-rounder</td><td>Kolkata Knight Riders</td><td>Eden Gardens</td><td>Shreyas Iyer</td></tr><tr><td>75</td><td>3</td><td>50</td><td>Wankhede Stadium</td><td>Mumbai</td><td>33108</td><td>301</td><td>201</td><td>1</td><td>213</td><td>7</td><td>Tie</td><td>110</td><td>Alan Padilla</td><td>4</td><td>All-rounder</td><td>Kolkata Knight Riders</td><td>Eden Gardens</td><td>Shreyas Iyer</td></tr><tr><td>81</td><td>1</td><td>50</td><td>Arun Jaitley Stadium</td><td>Delhi</td><td>41820</td><td>303</td><td>219</td><td>3</td><td>194</td><td>7</td><td>Loss</td><td>114</td><td>Joshua Baird</td><td>2</td><td>Bowler</td><td>Chennai Super Kings</td><td>M. A. Chidambaram Stadium</td><td>MS Dhoni</td></tr><tr><td>81</td><td>1</td><td>50</td><td>Eden Gardens</td><td>Kolkata</td><td>66000</td><td>304</td><td>218</td><td>1</td><td>190</td><td>5</td><td>Tie</td><td>114</td><td>Joshua Baird</td><td>2</td><td>Bowler</td><td>Chennai Super Kings</td><td>M. A. Chidambaram Stadium</td><td>MS Dhoni</td></tr><tr><td>85</td><td>0</td><td>50</td><td>Arun Jaitley Stadium</td><td>Delhi</td><td>41820</td><td>303</td><td>216</td><td>1</td><td>139</td><td>8</td><td>Win</td><td>115</td><td>Breanna Jackson</td><td>4</td><td>All-rounder</td><td>Kolkata Knight Riders</td><td>Eden Gardens</td><td>Shreyas Iyer</td></tr><tr><td>85</td><td>0</td><td>50</td><td>Wankhede Stadium</td><td>Mumbai</td><td>33108</td><td>301</td><td>209</td><td>1</td><td>201</td><td>5</td><td>Tie</td><td>115</td><td>Breanna Jackson</td><td>4</td><td>All-rounder</td><td>Kolkata Knight Riders</td><td>Eden Gardens</td><td>Shreyas Iyer</td></tr><tr><td>85</td><td>0</td><td>50</td><td>Eden Gardens</td><td>Kolkata</td><td>66000</td><td>304</td><td>205</td><td>3</td><td>123</td><td>8</td><td>Tie</td><td>115</td><td>Breanna Jackson</td><td>4</td><td>All-rounder</td><td>Kolkata Knight Riders</td><td>Eden Gardens</td><td>Shreyas Iyer</td></tr><tr><td>85</td><td>0</td><td>50</td><td>Wankhede Stadium</td><td>Mumbai</td><td>33108</td><td>301</td><td>201</td><td>1</td><td>213</td><td>7</td><td>Tie</td><td>115</td><td>Breanna Jackson</td><td>4</td><td>All-rounder</td><td>Kolkata Knight Riders</td><td>Eden Gardens</td><td>Shreyas Iyer</td></tr><tr><td>58</td><td>4</td><td>50</td><td>Arun Jaitley Stadium</td><td>Delhi</td><td>41820</td><td>303</td><td>212</td><td>5</td><td>227</td><td>6</td><td>Win</td><td>116</td><td>Bruce Morales</td><td>1</td><td>All-rounder</td><td>Mumbai Indians</td><td>Wankhede Stadium</td><td>Rohit Sharma</td></tr><tr><td>58</td><td>4</td><td>50</td><td>Eden Gardens</td><td>Kolkata</td><td>66000</td><td>304</td><td>202</td><td>3</td><td>202</td><td>10</td><td>Loss</td><td>116</td><td>Bruce Morales</td><td>1</td><td>All-rounder</td><td>Mumbai Indians</td><td>Wankhede Stadium</td><td>Rohit Sharma</td></tr><tr><td>75</td><td>0</td><td>50</td><td>Arun Jaitley Stadium</td><td>Delhi</td><td>41820</td><td>303</td><td>212</td><td>5</td><td>227</td><td>6</td><td>Win</td><td>120</td><td>Justin White</td><td>1</td><td>Batsman</td><td>Mumbai Indians</td><td>Wankhede Stadium</td><td>Rohit Sharma</td></tr><tr><td>75</td><td>0</td><td>50</td><td>Eden Gardens</td><td>Kolkata</td><td>66000</td><td>304</td><td>202</td><td>3</td><td>202</td><td>10</td><td>Loss</td><td>120</td><td>Justin White</td><td>1</td><td>Batsman</td><td>Mumbai Indians</td><td>Wankhede Stadium</td><td>Rohit Sharma</td></tr></tbody></table></div>"
      ]
     },
     "metadata": {
      "application/vnd.databricks.v1+output": {
       "addedWidgets": {},
       "aggData": [],
       "aggError": "",
       "aggOverflow": false,
       "aggSchema": [],
       "aggSeriesLimitReached": false,
       "aggType": "",
       "arguments": {},
       "columnCustomDisplayInfos": {},
       "data": [
        [
         82,
         2,
         50,
         "Arun Jaitley Stadium",
         "Delhi",
         41820,
         303,
         212,
         5,
         227,
         6,
         "Win",
         101,
         "Thomas Mendez",
         1,
         "All-rounder",
         "Mumbai Indians",
         "Wankhede Stadium",
         "Rohit Sharma"
        ],
        [
         82,
         2,
         50,
         "Eden Gardens",
         "Kolkata",
         66000,
         304,
         202,
         3,
         202,
         10,
         "Loss",
         101,
         "Thomas Mendez",
         1,
         "All-rounder",
         "Mumbai Indians",
         "Wankhede Stadium",
         "Rohit Sharma"
        ],
        [
         14,
         3,
         50,
         "Arun Jaitley Stadium",
         "Delhi",
         41820,
         303,
         219,
         3,
         194,
         7,
         "Loss",
         104,
         "Amber Bell",
         2,
         "Bowler",
         "Chennai Super Kings",
         "M. A. Chidambaram Stadium",
         "MS Dhoni"
        ],
        [
         14,
         3,
         50,
         "Eden Gardens",
         "Kolkata",
         66000,
         304,
         218,
         1,
         190,
         5,
         "Tie",
         104,
         "Amber Bell",
         2,
         "Bowler",
         "Chennai Super Kings",
         "M. A. Chidambaram Stadium",
         "MS Dhoni"
        ],
        [
         5,
         1,
         50,
         "Arun Jaitley Stadium",
         "Delhi",
         41820,
         303,
         212,
         5,
         227,
         6,
         "Win",
         105,
         "Shawn Bowers",
         1,
         "Batsman",
         "Mumbai Indians",
         "Wankhede Stadium",
         "Rohit Sharma"
        ],
        [
         5,
         1,
         50,
         "Eden Gardens",
         "Kolkata",
         66000,
         304,
         202,
         3,
         202,
         10,
         "Loss",
         105,
         "Shawn Bowers",
         1,
         "Batsman",
         "Mumbai Indians",
         "Wankhede Stadium",
         "Rohit Sharma"
        ],
        [
         94,
         4,
         50,
         "Arun Jaitley Stadium",
         "Delhi",
         41820,
         303,
         219,
         3,
         194,
         7,
         "Loss",
         108,
         "Jared Knox",
         2,
         "Bowler",
         "Chennai Super Kings",
         "M. A. Chidambaram Stadium",
         "MS Dhoni"
        ],
        [
         94,
         4,
         50,
         "Eden Gardens",
         "Kolkata",
         66000,
         304,
         218,
         1,
         190,
         5,
         "Tie",
         108,
         "Jared Knox",
         2,
         "Bowler",
         "Chennai Super Kings",
         "M. A. Chidambaram Stadium",
         "MS Dhoni"
        ],
        [
         93,
         2,
         50,
         "Arun Jaitley Stadium",
         "Delhi",
         41820,
         303,
         219,
         3,
         194,
         7,
         "Loss",
         109,
         "Kevin Conrad",
         2,
         "Bowler",
         "Chennai Super Kings",
         "M. A. Chidambaram Stadium",
         "MS Dhoni"
        ],
        [
         93,
         2,
         50,
         "Eden Gardens",
         "Kolkata",
         66000,
         304,
         218,
         1,
         190,
         5,
         "Tie",
         109,
         "Kevin Conrad",
         2,
         "Bowler",
         "Chennai Super Kings",
         "M. A. Chidambaram Stadium",
         "MS Dhoni"
        ],
        [
         75,
         3,
         50,
         "Arun Jaitley Stadium",
         "Delhi",
         41820,
         303,
         216,
         1,
         139,
         8,
         "Win",
         110,
         "Alan Padilla",
         4,
         "All-rounder",
         "Kolkata Knight Riders",
         "Eden Gardens",
         "Shreyas Iyer"
        ],
        [
         75,
         3,
         50,
         "Wankhede Stadium",
         "Mumbai",
         33108,
         301,
         209,
         1,
         201,
         5,
         "Tie",
         110,
         "Alan Padilla",
         4,
         "All-rounder",
         "Kolkata Knight Riders",
         "Eden Gardens",
         "Shreyas Iyer"
        ],
        [
         75,
         3,
         50,
         "Eden Gardens",
         "Kolkata",
         66000,
         304,
         205,
         3,
         123,
         8,
         "Tie",
         110,
         "Alan Padilla",
         4,
         "All-rounder",
         "Kolkata Knight Riders",
         "Eden Gardens",
         "Shreyas Iyer"
        ],
        [
         75,
         3,
         50,
         "Wankhede Stadium",
         "Mumbai",
         33108,
         301,
         201,
         1,
         213,
         7,
         "Tie",
         110,
         "Alan Padilla",
         4,
         "All-rounder",
         "Kolkata Knight Riders",
         "Eden Gardens",
         "Shreyas Iyer"
        ],
        [
         81,
         1,
         50,
         "Arun Jaitley Stadium",
         "Delhi",
         41820,
         303,
         219,
         3,
         194,
         7,
         "Loss",
         114,
         "Joshua Baird",
         2,
         "Bowler",
         "Chennai Super Kings",
         "M. A. Chidambaram Stadium",
         "MS Dhoni"
        ],
        [
         81,
         1,
         50,
         "Eden Gardens",
         "Kolkata",
         66000,
         304,
         218,
         1,
         190,
         5,
         "Tie",
         114,
         "Joshua Baird",
         2,
         "Bowler",
         "Chennai Super Kings",
         "M. A. Chidambaram Stadium",
         "MS Dhoni"
        ],
        [
         85,
         0,
         50,
         "Arun Jaitley Stadium",
         "Delhi",
         41820,
         303,
         216,
         1,
         139,
         8,
         "Win",
         115,
         "Breanna Jackson",
         4,
         "All-rounder",
         "Kolkata Knight Riders",
         "Eden Gardens",
         "Shreyas Iyer"
        ],
        [
         85,
         0,
         50,
         "Wankhede Stadium",
         "Mumbai",
         33108,
         301,
         209,
         1,
         201,
         5,
         "Tie",
         115,
         "Breanna Jackson",
         4,
         "All-rounder",
         "Kolkata Knight Riders",
         "Eden Gardens",
         "Shreyas Iyer"
        ],
        [
         85,
         0,
         50,
         "Eden Gardens",
         "Kolkata",
         66000,
         304,
         205,
         3,
         123,
         8,
         "Tie",
         115,
         "Breanna Jackson",
         4,
         "All-rounder",
         "Kolkata Knight Riders",
         "Eden Gardens",
         "Shreyas Iyer"
        ],
        [
         85,
         0,
         50,
         "Wankhede Stadium",
         "Mumbai",
         33108,
         301,
         201,
         1,
         213,
         7,
         "Tie",
         115,
         "Breanna Jackson",
         4,
         "All-rounder",
         "Kolkata Knight Riders",
         "Eden Gardens",
         "Shreyas Iyer"
        ],
        [
         58,
         4,
         50,
         "Arun Jaitley Stadium",
         "Delhi",
         41820,
         303,
         212,
         5,
         227,
         6,
         "Win",
         116,
         "Bruce Morales",
         1,
         "All-rounder",
         "Mumbai Indians",
         "Wankhede Stadium",
         "Rohit Sharma"
        ],
        [
         58,
         4,
         50,
         "Eden Gardens",
         "Kolkata",
         66000,
         304,
         202,
         3,
         202,
         10,
         "Loss",
         116,
         "Bruce Morales",
         1,
         "All-rounder",
         "Mumbai Indians",
         "Wankhede Stadium",
         "Rohit Sharma"
        ],
        [
         75,
         0,
         50,
         "Arun Jaitley Stadium",
         "Delhi",
         41820,
         303,
         212,
         5,
         227,
         6,
         "Win",
         120,
         "Justin White",
         1,
         "Batsman",
         "Mumbai Indians",
         "Wankhede Stadium",
         "Rohit Sharma"
        ],
        [
         75,
         0,
         50,
         "Eden Gardens",
         "Kolkata",
         66000,
         304,
         202,
         3,
         202,
         10,
         "Loss",
         120,
         "Justin White",
         1,
         "Batsman",
         "Mumbai Indians",
         "Wankhede Stadium",
         "Rohit Sharma"
        ]
       ],
       "datasetInfos": [],
       "dbfsResultPath": null,
       "isJsonSchema": true,
       "metadata": {},
       "overflow": false,
       "plotOptions": {
        "customPlotOptions": {},
        "displayType": "table",
        "pivotAggregation": null,
        "pivotColumns": null,
        "xColumns": null,
        "yColumns": null
       },
       "removedWidgets": [],
       "schema": [
        {
         "metadata": "{}",
         "name": "runs_scored_match",
         "type": "\"integer\""
        },
        {
         "metadata": "{}",
         "name": "wickets_taken_match",
         "type": "\"integer\""
        },
        {
         "metadata": "{}",
         "name": "ball_taken",
         "type": "\"integer\""
        },
        {
         "metadata": "{}",
         "name": "stadium_name",
         "type": "\"string\""
        },
        {
         "metadata": "{}",
         "name": "city",
         "type": "\"string\""
        },
        {
         "metadata": "{}",
         "name": "capacity",
         "type": "\"integer\""
        },
        {
         "metadata": "{}",
         "name": "stadium_id",
         "type": "\"integer\""
        },
        {
         "metadata": "{}",
         "name": "match_id",
         "type": "\"integer\""
        },
        {
         "metadata": "{}",
         "name": "opponent_team_id",
         "type": "\"integer\""
        },
        {
         "metadata": "{}",
         "name": "runs_scored",
         "type": "\"integer\""
        },
        {
         "metadata": "{}",
         "name": "wickets_taken",
         "type": "\"integer\""
        },
        {
         "metadata": "{}",
         "name": "match_result",
         "type": "\"string\""
        },
        {
         "metadata": "{}",
         "name": "player_id",
         "type": "\"integer\""
        },
        {
         "metadata": "{}",
         "name": "player_name",
         "type": "\"string\""
        },
        {
         "metadata": "{}",
         "name": "team_id",
         "type": "\"integer\""
        },
        {
         "metadata": "{}",
         "name": "player_role",
         "type": "\"string\""
        },
        {
         "metadata": "{}",
         "name": "team_name",
         "type": "\"string\""
        },
        {
         "metadata": "{}",
         "name": "home_ground",
         "type": "\"string\""
        },
        {
         "metadata": "{}",
         "name": "captain",
         "type": "\"string\""
        }
       ],
       "type": "table"
      }
     },
     "output_type": "display_data"
    }
   ],
   "source": [
    "try:    \n",
    "    joined_df=df2_slv.join(dm4, df2_slv.player_id==dm4.player_id, how='inner').drop(df2_slv.player_id,df2_slv.match_id,df2_slv.ingestion_date,df2_slv.source_file)\n",
    "    joined_df.display()\n",
    "    log_data.append((current_time, \"INFO\", \"File found\"))\n",
    "except:\n",
    "    print(\"Error: File not found\")"
   ]
  },
  {
   "cell_type": "code",
   "execution_count": 0,
   "metadata": {
    "application/vnd.databricks.v1+cell": {
     "cellMetadata": {
      "byteLimit": 2048000,
      "rowLimit": 10000
     },
     "inputWidgets": {},
     "nuid": "db0020be-a701-4cc7-9635-5d6a5dd048d3",
     "showTitle": false,
     "tableResultSettingsMap": {},
     "title": ""
    }
   },
   "outputs": [],
   "source": [
    "# storing joined table data in silver cointainer as parquet file \n",
    "try:\n",
    "    joined_df.write.mode(\"overwrite\").parquet(\"abfss://silver@stge1.dfs.core.windows.net/joined_df_silver.parquet\")\n",
    "    log_data.append((current_time, \"INFO\", \"File found\"))\n",
    "except:\n",
    "    print(\"Error: File not found\")"
   ]
  },
  {
   "cell_type": "code",
   "execution_count": 0,
   "metadata": {
    "application/vnd.databricks.v1+cell": {
     "cellMetadata": {
      "byteLimit": 2048000,
      "rowLimit": 10000
     },
     "inputWidgets": {},
     "nuid": "51e18258-10c6-40b7-82e9-ff99351f900c",
     "showTitle": false,
     "tableResultSettingsMap": {},
     "title": ""
    }
   },
   "outputs": [],
   "source": [
    "try:\n",
    "    jdbc_url = \"jdbc:sqlserver://pojectserver.database.windows.net:1433;databaseName=proj_db;encrypt=true;trustServerCertificate=false;hostNameInCertificate=*.database.windows.net;loginTimeout=30;\"\n",
    "\n",
    "\n",
    "    connection_properties = {\n",
    "        \"user\": \"shree\",\n",
    "        \"password\": \"proj_data@123\",\n",
    "        \"driver\": \"com.microsoft.sqlserver.jdbc.SQLServerDriver\"\n",
    "    }\n",
    "    log_data.append((current_time, \"INFO\", \"Connection Succesful\"))\n",
    "except:\n",
    "    print(\"Error: Connection Failed\")"
   ]
  },
  {
   "cell_type": "code",
   "execution_count": 0,
   "metadata": {
    "application/vnd.databricks.v1+cell": {
     "cellMetadata": {
      "byteLimit": 2048000,
      "rowLimit": 10000
     },
     "inputWidgets": {},
     "nuid": "70e55cba-2be4-4f7d-bcdf-2b01bb6dd243",
     "showTitle": false,
     "tableResultSettingsMap": {},
     "title": ""
    }
   },
   "outputs": [],
   "source": [
    "try:  \n",
    "    joined_df.write \\\n",
    "        .format(\"jdbc\") \\\n",
    "        .option(\"url\", jdbc_url) \\\n",
    "        .option(\"dbtable\", \"silver_db.final_silver\") \\\n",
    "        .option(\"user\", \"shree\") \\\n",
    "        .option(\"password\", \"proj_data@123\") \\\n",
    "        .option(\"driver\", \"com.microsoft.sqlserver.jdbc.SQLServerDriver\") \\\n",
    "        .mode(\"overwrite\") \\\n",
    "        .save()\n",
    "    log_data.append((current_time, \"INFO\", \"File saved\"))\n",
    "except:\n",
    "    print(\"Error: File not saved\")"
   ]
  }
 ],
 "metadata": {
  "application/vnd.databricks.v1+notebook": {
   "computePreferences": null,
   "dashboards": [],
   "environmentMetadata": {
    "base_environment": "",
    "environment_version": "2"
   },
   "inputWidgetPreferences": null,
   "language": "python",
   "notebookMetadata": {
    "pythonIndentUnit": 4
   },
   "notebookName": "silver",
   "widgets": {}
  },
  "language_info": {
   "name": "python"
  }
 },
 "nbformat": 4,
 "nbformat_minor": 0
}
