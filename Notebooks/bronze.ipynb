{
 "cells": [
  {
   "cell_type": "code",
   "execution_count": 0,
   "metadata": {
    "application/vnd.databricks.v1+cell": {
     "cellMetadata": {
      "byteLimit": 2048000,
      "rowLimit": 10000
     },
     "inputWidgets": {},
     "nuid": "32ff9281-80b6-43de-8d5d-16ee0f9d522c",
     "showTitle": false,
     "tableResultSettingsMap": {},
     "title": ""
    }
   },
   "outputs": [],
   "source": [
    "import pandas as pd\n",
    "import logging"
   ]
  },
  {
   "cell_type": "code",
   "execution_count": 0,
   "metadata": {
    "application/vnd.databricks.v1+cell": {
     "cellMetadata": {
      "byteLimit": 2048000,
      "rowLimit": 10000
     },
     "inputWidgets": {},
     "nuid": "a11ee9a7-b508-45ba-8d95-c477a68b70e7",
     "showTitle": false,
     "tableResultSettingsMap": {},
     "title": ""
    }
   },
   "outputs": [],
   "source": [
    "#  spark.conf.set(\"fs.azure.account.key.stge1.dfs.core.windows.net\", \"access key\")"
   ]
  },
  {
   "cell_type": "code",
   "execution_count": 0,
   "metadata": {
    "application/vnd.databricks.v1+cell": {
     "cellMetadata": {
      "byteLimit": 2048000,
      "rowLimit": 10000
     },
     "inputWidgets": {},
     "nuid": "84276add-c329-4dc9-8e22-b860a16cf2be",
     "showTitle": false,
     "tableResultSettingsMap": {},
     "title": ""
    }
   },
   "outputs": [],
   "source": [
    "bronze_log_path = \"abfss://bronze@stge1.dfs.core.windows.net/logs/\""
   ]
  },
  {
   "cell_type": "code",
   "execution_count": 0,
   "metadata": {
    "application/vnd.databricks.v1+cell": {
     "cellMetadata": {
      "byteLimit": 2048000,
      "rowLimit": 10000
     },
     "inputWidgets": {},
     "nuid": "faa21c99-10cc-42bb-852b-245e3a45cc93",
     "showTitle": false,
     "tableResultSettingsMap": {},
     "title": ""
    }
   },
   "outputs": [],
   "source": [
    "import datetime\n",
    "from pyspark.sql import SparkSession\n",
    "bronze_log_path = \"abfss://bronze@stge1.dfs.core.windows.net/logs/\"\n",
    "log_data = []\n",
    "current_time = datetime.datetime.now().strftime(\"%Y-%m-%d %H:%M:%S\")"
   ]
  },
  {
   "cell_type": "code",
   "execution_count": 0,
   "metadata": {
    "application/vnd.databricks.v1+cell": {
     "cellMetadata": {
      "byteLimit": 2048000,
      "rowLimit": 10000
     },
     "inputWidgets": {},
     "nuid": "1c17f9b1-1f12-41c9-8df2-c505aba7373b",
     "showTitle": false,
     "tableResultSettingsMap": {},
     "title": ""
    }
   },
   "outputs": [],
   "source": [
    "try:\n",
    "    # spark.conf.set(\"fs.azure.account.key.stge1raw.dfs.core.windows.net\", \"access key\")\n",
    "    log_data.append((current_time, \"INFO\", \"Successfully set Spark config for stge1raw storage account key.\"))\n",
    "except Exception as e:\n",
    "    log_data.append((current_time, \"ERROR\", f\"Failed to set Spark config: {str(e)}\"))\n"
   ]
  },
  {
   "cell_type": "code",
   "execution_count": 0,
   "metadata": {
    "application/vnd.databricks.v1+cell": {
     "cellMetadata": {
      "byteLimit": 2048000,
      "rowLimit": 10000
     },
     "inputWidgets": {},
     "nuid": "2e239e46-fdc7-4e0e-b432-65f6acd866d4",
     "showTitle": false,
     "tableResultSettingsMap": {},
     "title": ""
    }
   },
   "outputs": [
    {
     "name": "stdout",
     "output_type": "stream",
     "text": [
      "[('2025-04-05 10:18:23', 'INFO', 'Successfully set Spark config for stge1raw storage account key.')]\n"
     ]
    }
   ],
   "source": [
    "print(log_data)"
   ]
  },
  {
   "cell_type": "code",
   "execution_count": 0,
   "metadata": {
    "application/vnd.databricks.v1+cell": {
     "cellMetadata": {
      "byteLimit": 2048000,
      "rowLimit": 10000
     },
     "inputWidgets": {},
     "nuid": "bb382ed0-cd3e-4de1-867d-136e07bc936e",
     "showTitle": false,
     "tableResultSettingsMap": {},
     "title": ""
    }
   },
   "outputs": [
    {
     "data": {
      "text/plain": [
       "[FileInfo(path='abfss://raw@stge1raw.dfs.core.windows.net/match_performance.csv', name='match_performance.csv', size=482, modificationTime=1743824536000),\n",
       " FileInfo(path='abfss://raw@stge1raw.dfs.core.windows.net/match_stadium.csv', name='match_stadium.csv', size=180, modificationTime=1743824536000),\n",
       " FileInfo(path='abfss://raw@stge1raw.dfs.core.windows.net/player_performance.csv', name='player_performance.csv', size=396, modificationTime=1743824536000),\n",
       " FileInfo(path='abfss://raw@stge1raw.dfs.core.windows.net/player_team.csv', name='player_team.csv', size=602, modificationTime=1743824536000),\n",
       " FileInfo(path='abfss://raw@stge1raw.dfs.core.windows.net/stadium.csv', name='stadium.csv', size=225, modificationTime=1743824536000),\n",
       " FileInfo(path='abfss://raw@stge1raw.dfs.core.windows.net/team.csv', name='team.csv', size=281, modificationTime=1743824536000)]"
      ]
     },
     "execution_count": 4,
     "metadata": {},
     "output_type": "execute_result"
    }
   ],
   "source": [
    "dbutils.fs.ls(\"abfss://raw@stge1raw.dfs.core.windows.net/\")"
   ]
  },
  {
   "cell_type": "code",
   "execution_count": 0,
   "metadata": {
    "application/vnd.databricks.v1+cell": {
     "cellMetadata": {
      "byteLimit": 2048000,
      "rowLimit": 10000
     },
     "inputWidgets": {},
     "nuid": "22b72c1f-c161-4101-8e87-dace89b7f7f8",
     "showTitle": false,
     "tableResultSettingsMap": {},
     "title": ""
    }
   },
   "outputs": [],
   "source": [
    "try:    \n",
    "    df1=spark.read.csv('abfss://raw@stge1raw.dfs.core.windows.net/team.csv', header=True, inferSchema=True)\n",
    "    df2=spark.read.csv('abfss://raw@stge1raw.dfs.core.windows.net/player_performance.csv', header=True, inferSchema=True)\n",
    "    df3=spark.read.csv('abfss://raw@stge1raw.dfs.core.windows.net/stadium.csv', header=True, inferSchema=True)\n",
    "    df4=spark.read.csv('abfss://raw@stge1raw.dfs.core.windows.net/player_team.csv', header=True, inferSchema=True)\n",
    "    df5=spark.read.csv('abfss://raw@stge1raw.dfs.core.windows.net/match_stadium.csv', header=True, inferSchema=True)\n",
    "    df6=spark.read.csv('abfss://raw@stge1raw.dfs.core.windows.net/match_performance.csv', header=True, inferSchema=True)\n",
    "    log_data.append((current_time, \"INFO\", \"Successfully read the csv.\"))\n",
    "except Exception as e:\n",
    "    log_data.append((current_time, \"ERROR\", f\"Failed to read csv: {str(e)}\"))\n",
    "    print(\"Error reading csv: \", str(e))\n"
   ]
  },
  {
   "cell_type": "code",
   "execution_count": 0,
   "metadata": {
    "application/vnd.databricks.v1+cell": {
     "cellMetadata": {
      "byteLimit": 2048000,
      "rowLimit": 10000
     },
     "inputWidgets": {},
     "nuid": "f797e52f-b26d-401a-a45a-7203f3cb8cde",
     "showTitle": false,
     "tableResultSettingsMap": {},
     "title": ""
    }
   },
   "outputs": [],
   "source": [
    "# spark.conf.set(\"fs.azure.account.key.stge1.dfs.core.windows.net\", \"access key\")"
   ]
  },
  {
   "cell_type": "code",
   "execution_count": 0,
   "metadata": {
    "application/vnd.databricks.v1+cell": {
     "cellMetadata": {
      "byteLimit": 2048000,
      "rowLimit": 10000
     },
     "inputWidgets": {},
     "nuid": "a16f3f64-dbae-4fcb-8990-6e5dd4e4b7ed",
     "showTitle": false,
     "tableResultSettingsMap": {},
     "title": ""
    }
   },
   "outputs": [],
   "source": [
    "df1.write.mode(\"overwrite\").parquet(\"abfss://bronze@stge1.dfs.core.windows.net/team_bronze.parquet\")\n",
    "df2.write.mode(\"overwrite\").parquet(\"abfss://bronze@stge1.dfs.core.windows.net/player_performance_bronze.parquet\")\n",
    "df3.write.mode(\"overwrite\").parquet(\"abfss://bronze@stge1.dfs.core.windows.net/stadium_bronze.parquet\")\n",
    "df4.write.mode(\"overwrite\").parquet(\"abfss://bronze@stge1.dfs.core.windows.net/player_team_bronze.parquet\")\n",
    "df5.write.mode(\"overwrite\").parquet(\"abfss://bronze@stge1.dfs.core.windows.net/match_stadium_bronze.parquet\")\n",
    "df6.write.mode(\"overwrite\").parquet(\"abfss://bronze@stge1.dfs.core.windows.net/match_performance_bronze.parquet\")\n",
    "\n",
    "log_data.append((current_time, \"INFO\", \"Successfully written the parquet.\"))\n"
   ]
  },
  {
   "cell_type": "code",
   "execution_count": 0,
   "metadata": {
    "application/vnd.databricks.v1+cell": {
     "cellMetadata": {
      "byteLimit": 2048000,
      "rowLimit": 10000
     },
     "inputWidgets": {},
     "nuid": "89be6266-f2c7-4bfe-b9eb-702082fea5bb",
     "showTitle": false,
     "tableResultSettingsMap": {},
     "title": ""
    }
   },
   "outputs": [],
   "source": [
    "df1.write.mode(\"overwrite\").parquet(\"abfss://silver@stge1.dfs.core.windows.net/team_silver.parquet\")\n",
    "df2.write.mode(\"overwrite\").parquet(\"abfss://silver@stge1.dfs.core.windows.net/Player__Performance_silver.parquet\")\n",
    "df3.write.mode(\"overwrite\").parquet(\"abfss://silver@stge1.dfs.core.windows.net/stadium_silver.parquet\")\n",
    "df4.write.mode(\"overwrite\").parquet(\"abfss://silver@stge1.dfs.core.windows.net/player_team_silver.parquet\")\n",
    "df5.write.mode(\"overwrite\").parquet(\"abfss://silver@stge1.dfs.core.windows.net/match_stadium_silver.parquet\")\n",
    "df6.write.mode(\"overwrite\").parquet(\"abfss://silver@stge1.dfs.core.windows.net/match_performance_silver.parquet\")"
   ]
  }
 ],
 "metadata": {
  "application/vnd.databricks.v1+notebook": {
   "computePreferences": null,
   "dashboards": [],
   "environmentMetadata": {
    "base_environment": "",
    "environment_version": "2"
   },
   "inputWidgetPreferences": null,
   "language": "python",
   "notebookMetadata": {
    "pythonIndentUnit": 4
   },
   "notebookName": "bronze",
   "widgets": {}
  },
  "language_info": {
   "name": "python"
  }
 },
 "nbformat": 4,
 "nbformat_minor": 0
}
